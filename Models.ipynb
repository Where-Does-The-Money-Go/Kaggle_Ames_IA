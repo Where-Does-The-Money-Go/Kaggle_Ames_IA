{
 "cells": [
  {
   "cell_type": "code",
   "execution_count": null,
   "metadata": {},
   "outputs": [],
   "source": [
    "#Import data"
   ]
  },
  {
   "cell_type": "code",
   "execution_count": 1,
   "metadata": {},
   "outputs": [],
   "source": [
    "from __future__ import print_function  # Python 2 and 3\n",
    "import pandas as pd\n",
    "import scipy.stats\n",
    "import numpy as np\n",
    "from numpy.random import shuffle\n",
    "from sklearn.compose import make_column_transformer\n",
    "from sklearn.preprocessing import RobustScaler\n",
    "from sklearn.preprocessing import OneHotEncoder\n",
    "from sklearn.impute import SimpleImputer\n",
    "from sklearn import linear_model\n",
    "from sklearn.linear_model import Ridge, Lasso, ElasticNet\n",
    "import xgboost as xgb\n",
    "from sklearn.svm import SVR\n",
    "#from scipy import stats\n",
    "import matplotlib.pyplot as plt\n",
    "from scipy import stats\n",
    "%matplotlib inline\n",
    "plt.style.use('ggplot')\n",
    "import statsmodels.api as sm \n",
    "from sklearn.model_selection import train_test_split\n",
    "from sklearn.model_selection import GridSearchCV\n",
    "import decimal"
   ]
  },
  {
   "cell_type": "markdown",
   "metadata": {},
   "source": [
    "# Read in Training Set"
   ]
  },
  {
   "cell_type": "code",
   "execution_count": 2,
   "metadata": {},
   "outputs": [],
   "source": [
    "df = pd.read_csv('post_process_train.csv', index_col = 0)\n",
    "drops = ['GarageArea', 'GarageYrBlt', 'Id', 'FullBath', 'TotRmsAbvGrd', 'X2ndFlrSF', 'BsmtFullBath']\n",
    "df = df.drop(drops, axis = 1)\n",
    "\n"
   ]
  },
  {
   "cell_type": "code",
   "execution_count": 3,
   "metadata": {},
   "outputs": [
    {
     "data": {
      "text/plain": [
       "74"
      ]
     },
     "execution_count": 3,
     "metadata": {},
     "output_type": "execute_result"
    }
   ],
   "source": [
    "len(df.columns)"
   ]
  },
  {
   "cell_type": "markdown",
   "metadata": {},
   "source": [
    "# Read in Kaggle Data"
   ]
  },
  {
   "cell_type": "code",
   "execution_count": 4,
   "metadata": {},
   "outputs": [],
   "source": [
    "df_kaggle = pd.read_csv('post_process_test.csv', index_col = 0).dropna()\n",
    "df_kaggle = df_kaggle.drop(drops, axis = 1)\n"
   ]
  },
  {
   "cell_type": "code",
   "execution_count": 5,
   "metadata": {},
   "outputs": [
    {
     "data": {
      "text/plain": [
       "73"
      ]
     },
     "execution_count": 5,
     "metadata": {},
     "output_type": "execute_result"
    }
   ],
   "source": [
    "len(df_kaggle.columns)"
   ]
  },
  {
   "cell_type": "markdown",
   "metadata": {},
   "source": [
    "# Process Data"
   ]
  },
  {
   "cell_type": "code",
   "execution_count": 6,
   "metadata": {},
   "outputs": [],
   "source": [
    "y = df['SalePrice']\n",
    "df_x = df.drop('SalePrice', axis = 1)"
   ]
  },
  {
   "cell_type": "code",
   "execution_count": 7,
   "metadata": {},
   "outputs": [],
   "source": [
    "X_train, X_test, y_train, y_test = train_test_split(df_x, y, test_size=0.2, random_state=42)"
   ]
  },
  {
   "cell_type": "code",
   "execution_count": 8,
   "metadata": {},
   "outputs": [
    {
     "data": {
      "text/plain": [
       "(1153, 73)"
      ]
     },
     "execution_count": 8,
     "metadata": {},
     "output_type": "execute_result"
    }
   ],
   "source": [
    "X_train.shape"
   ]
  },
  {
   "cell_type": "code",
   "execution_count": 9,
   "metadata": {},
   "outputs": [
    {
     "data": {
      "text/plain": [
       "(289, 73)"
      ]
     },
     "execution_count": 9,
     "metadata": {},
     "output_type": "execute_result"
    }
   ],
   "source": [
    "X_test.shape"
   ]
  },
  {
   "cell_type": "code",
   "execution_count": 10,
   "metadata": {},
   "outputs": [
    {
     "data": {
      "text/plain": [
       "(1153,)"
      ]
     },
     "execution_count": 10,
     "metadata": {},
     "output_type": "execute_result"
    }
   ],
   "source": [
    "y_train.shape"
   ]
  },
  {
   "cell_type": "code",
   "execution_count": 11,
   "metadata": {},
   "outputs": [
    {
     "data": {
      "text/plain": [
       "(289,)"
      ]
     },
     "execution_count": 11,
     "metadata": {},
     "output_type": "execute_result"
    }
   ],
   "source": [
    "y_test.shape"
   ]
  },
  {
   "cell_type": "code",
   "execution_count": 12,
   "metadata": {},
   "outputs": [],
   "source": [
    "#process training data\n",
    "categorical_columns = ['MSSubClass', 'MSZoning', 'Street', 'Alley', 'LotShape', 'LandContour',\n",
    "                       'Utilities', 'LotConfig', 'LandSlope', 'Neighborhood',\n",
    "                      'Condition1', 'Condition2', 'BldgType', 'HouseStyle', \n",
    "                      'RoofStyle', 'RoofMatl', 'Exterior1st', 'Exterior2nd',\n",
    "                       'MasVnrType',\n",
    "                       'Foundation', 'BsmtFinType1', 'BsmtFinType2',\n",
    "                       'Heating', 'CentralAir', 'Electrical', 'Functional', \n",
    "                       'GarageType', 'GarageFinish', 'PavedDrive', 'Fence',\n",
    "                       'MiscFeature', 'SaleType', 'SaleCondition']\n",
    "column_trans = make_column_transformer((OneHotEncoder(handle_unknown='ignore',sparse = False),categorical_columns))\n",
    "X_train = column_trans.fit_transform(X_train)\n",
    "X_test = column_trans.transform(X_test)\n",
    "df_kaggle = column_trans.transform(df_kaggle)"
   ]
  },
  {
   "cell_type": "code",
   "execution_count": 13,
   "metadata": {},
   "outputs": [],
   "source": [
    "#process test data\n",
    "#numerical_columns = ['LotFrontage', 'LotArea', 'SalePrice']\n",
    "#column_trans = make_column_transformer((OneHotEncoder(handle_unknown='ignore', sparse = False),categorical_columns))\n"
   ]
  },
  {
   "cell_type": "code",
   "execution_count": 14,
   "metadata": {},
   "outputs": [
    {
     "data": {
      "text/plain": [
       "(1153, 220)"
      ]
     },
     "execution_count": 14,
     "metadata": {},
     "output_type": "execute_result"
    }
   ],
   "source": [
    "X_train.shape"
   ]
  },
  {
   "cell_type": "code",
   "execution_count": 15,
   "metadata": {},
   "outputs": [
    {
     "data": {
      "text/plain": [
       "(289, 220)"
      ]
     },
     "execution_count": 15,
     "metadata": {},
     "output_type": "execute_result"
    }
   ],
   "source": [
    "X_test.shape"
   ]
  },
  {
   "cell_type": "code",
   "execution_count": 16,
   "metadata": {},
   "outputs": [
    {
     "data": {
      "text/plain": [
       "(1447, 220)"
      ]
     },
     "execution_count": 16,
     "metadata": {},
     "output_type": "execute_result"
    }
   ],
   "source": [
    "df_kaggle.shape"
   ]
  },
  {
   "cell_type": "markdown",
   "metadata": {},
   "source": [
    "# Box Cox Transformation"
   ]
  },
  {
   "cell_type": "code",
   "execution_count": null,
   "metadata": {},
   "outputs": [],
   "source": [
    "df[\"SalePrice\"] = scipy.stats.boxcox(df[\"SalePrice\"], .25)\n",
    "pd.set_option('display.max_columns', None)\n",
    "df.head()"
   ]
  },
  {
   "cell_type": "markdown",
   "metadata": {},
   "source": [
    "##AIC & BIC"
   ]
  },
  {
   "cell_type": "code",
   "execution_count": 17,
   "metadata": {},
   "outputs": [
    {
     "name": "stdout",
     "output_type": "stream",
     "text": [
      "                            OLS Regression Results                            \n",
      "==============================================================================\n",
      "Dep. Variable:              SalePrice   R-squared:                       0.805\n",
      "Model:                            OLS   Adj. R-squared:                  0.769\n",
      "Method:                 Least Squares   F-statistic:                     22.19\n",
      "Date:                Fri, 14 Aug 2020   Prob (F-statistic):          1.57e-247\n",
      "Time:                        23:18:03   Log-Likelihood:                -13602.\n",
      "No. Observations:                1153   AIC:                         2.757e+04\n",
      "Df Residuals:                     971   BIC:                         2.849e+04\n",
      "Df Model:                         181                                         \n",
      "Covariance Type:            nonrobust                                         \n",
      "==============================================================================\n",
      "                 coef    std err          t      P>|t|      [0.025      0.975]\n",
      "------------------------------------------------------------------------------\n",
      "const       1.917e+04   5221.096      3.672      0.000    8925.812    2.94e+04\n",
      "x1          3193.5965   1.14e+04      0.280      0.779   -1.92e+04    2.56e+04\n",
      "x2         -1.263e+04    1.3e+04     -0.971      0.332   -3.82e+04    1.29e+04\n",
      "x3          2.673e+04   2.86e+04      0.936      0.349   -2.93e+04    8.28e+04\n",
      "x4          2.884e+04   5.32e+04      0.542      0.588   -7.56e+04    1.33e+05\n",
      "x5         -6413.4666   1.46e+04     -0.440      0.660    -3.5e+04    2.22e+04\n",
      "x6          -346.2167   1.18e+04     -0.029      0.977   -2.36e+04    2.29e+04\n",
      "x7          7515.6848    1.2e+04      0.625      0.532   -1.61e+04    3.11e+04\n",
      "x8          1.353e+04   2.59e+04      0.523      0.601   -3.73e+04    6.43e+04\n",
      "x9          1.046e+04   2.14e+04      0.489      0.625   -3.15e+04    5.25e+04\n",
      "x10         1.025e+04   1.73e+04      0.594      0.553   -2.36e+04    4.41e+04\n",
      "x11         1.298e+04   5351.610      2.426      0.015    2481.964    2.35e+04\n",
      "x12        -2.855e+04   1.91e+04     -1.495      0.135    -6.6e+04    8931.051\n",
      "x13        -4.193e+04   2.13e+04     -1.972      0.049   -8.37e+04    -194.184\n",
      "x14        -1.174e+04   2.93e+04     -0.401      0.689   -6.93e+04    4.58e+04\n",
      "x15         7277.7758   5963.481      1.220      0.223   -4425.020     1.9e+04\n",
      "x16        -2.498e+04   1.46e+04     -1.711      0.087   -5.36e+04    3662.001\n",
      "x17         1202.5599   9985.682      0.120      0.904   -1.84e+04    2.08e+04\n",
      "x18         1.358e+04   1.03e+04      1.313      0.190   -6720.797    3.39e+04\n",
      "x19         1.701e+04   5496.570      3.094      0.002    6220.913    2.78e+04\n",
      "x20         1.236e+04   6149.286      2.011      0.045     295.893    2.44e+04\n",
      "x21         1209.5696   9887.479      0.122      0.903   -1.82e+04    2.06e+04\n",
      "x22         1.796e+04   8839.122      2.032      0.042     616.192    3.53e+04\n",
      "x23         2286.3964   5643.669      0.405      0.685   -8788.796    1.34e+04\n",
      "x24           23.6527   4037.210      0.006      0.995   -7899.008    7946.314\n",
      "x25         1.686e+04   6228.878      2.707      0.007    4638.081    2.91e+04\n",
      "x26        -3124.5181   5137.637     -0.608      0.543   -1.32e+04    6957.632\n",
      "x27         6236.4870   6985.599      0.893      0.372   -7472.123    1.99e+04\n",
      "x28         2.093e+04   1.42e+04      1.476      0.140   -6892.070    4.88e+04\n",
      "x29        -4869.6295   5294.979     -0.920      0.358   -1.53e+04    5521.292\n",
      "x30         5976.7264   5735.528      1.042      0.298   -5278.731    1.72e+04\n",
      "x31         8912.0269   5710.637      1.561      0.119   -2294.586    2.01e+04\n",
      "x32          -71.3927   7709.510     -0.009      0.993   -1.52e+04    1.51e+04\n",
      "x33         4354.3827   4089.818      1.065      0.287   -3671.517    1.24e+04\n",
      "x34          4.36e+04   2.15e+04      2.028      0.043    1409.313    8.58e+04\n",
      "x35        -2.443e+04   2.43e+04     -1.004      0.316   -7.22e+04    2.33e+04\n",
      "x36         1.246e+04   4828.755      2.580      0.010    2982.803    2.19e+04\n",
      "x37         2.212e+04   5730.690      3.861      0.000    1.09e+04    3.34e+04\n",
      "x38        -6756.7870   6519.253     -1.036      0.300   -1.96e+04    6036.662\n",
      "x39        -1.353e+04   1.58e+04     -0.858      0.391   -4.45e+04    1.74e+04\n",
      "x40         4879.6210   4508.740      1.082      0.279   -3968.377    1.37e+04\n",
      "x41         2778.0696   7053.326      0.394      0.694   -1.11e+04    1.66e+04\n",
      "x42          1.75e+04   7117.185      2.459      0.014    3534.789    3.15e+04\n",
      "x43        -1107.9509   1.18e+04     -0.094      0.925   -2.43e+04    2.21e+04\n",
      "x44         1.959e+04   1.26e+04      1.554      0.121   -5156.149    4.43e+04\n",
      "x45        -5043.8424    2.8e+04     -0.180      0.857      -6e+04    4.99e+04\n",
      "x46        -2761.3503   1.45e+04     -0.190      0.849   -3.13e+04    2.58e+04\n",
      "x47        -1.808e+04   8370.448     -2.160      0.031   -3.45e+04   -1657.815\n",
      "x48         1.406e+04   1.04e+04      1.349      0.178   -6399.088    3.45e+04\n",
      "x49        -1.335e+04   4809.828     -2.775      0.006   -2.28e+04   -3906.783\n",
      "x50         1.663e+04   7490.812      2.220      0.027    1932.205    3.13e+04\n",
      "x51        -3.355e+04   5281.462     -6.352      0.000   -4.39e+04   -2.32e+04\n",
      "x52        -2.674e+04   6127.252     -4.364      0.000   -3.88e+04   -1.47e+04\n",
      "x53          -3.2e+04    1.1e+04     -2.918      0.004   -5.35e+04   -1.05e+04\n",
      "x54        -5.786e+04    1.8e+04     -3.214      0.001   -9.32e+04   -2.25e+04\n",
      "x55        -2.525e+04   6505.762     -3.882      0.000    -3.8e+04   -1.25e+04\n",
      "x56        -3.241e+04   4457.883     -7.270      0.000   -4.12e+04   -2.37e+04\n",
      "x57         2.285e+04   1.88e+04      1.213      0.225   -1.41e+04    5.98e+04\n",
      "x58        -1.253e+04   5726.145     -2.189      0.029   -2.38e+04   -1296.009\n",
      "x59         5.751e+04   7575.257      7.591      0.000    4.26e+04    7.24e+04\n",
      "x60         7.552e+04   6570.268     11.494      0.000    6.26e+04    8.84e+04\n",
      "x61        -3.067e+04   7859.992     -3.902      0.000   -4.61e+04   -1.52e+04\n",
      "x62        -2.167e+04      1e+04     -2.162      0.031   -4.13e+04   -1997.334\n",
      "x63        -3.186e+04   5918.782     -5.384      0.000   -4.35e+04   -2.02e+04\n",
      "x64        -3320.0118   6676.810     -0.497      0.619   -1.64e+04    9782.628\n",
      "x65         2.685e+04   9752.486      2.753      0.006    7714.576     4.6e+04\n",
      "x66          8.03e+04   9645.509      8.325      0.000    6.14e+04    9.92e+04\n",
      "x67         1.246e+04   7472.652      1.667      0.096   -2206.074    2.71e+04\n",
      "x68         4.049e+04   1.25e+04      3.244      0.001     1.6e+04     6.5e+04\n",
      "x69        -3836.6714   7650.768     -0.501      0.616   -1.89e+04    1.12e+04\n",
      "x70        -4571.5412   6507.356     -0.703      0.483   -1.73e+04    8198.560\n",
      "x71         5345.6975   4811.213      1.111      0.267   -4095.875    1.48e+04\n",
      "x72         2.513e+04   1.32e+04      1.910      0.056    -687.701     5.1e+04\n",
      "x73         2.317e+04   1.02e+04      2.269      0.023    3129.752    4.32e+04\n",
      "x74        -6713.5462   1.31e+04     -0.513      0.608   -3.24e+04     1.9e+04\n",
      "x75        -8629.0621   8746.628     -0.987      0.324   -2.58e+04    8535.409\n",
      "x76        -1.567e+04   2.35e+04     -0.667      0.505   -6.18e+04    3.04e+04\n",
      "x77         4947.8826   1.75e+04      0.283      0.777   -2.94e+04    3.93e+04\n",
      "x78        -2.986e+04   3.98e+04     -0.750      0.453   -1.08e+05    4.83e+04\n",
      "x79        -2.649e+04   2.52e+04     -1.052      0.293   -7.59e+04    2.29e+04\n",
      "x80        -1.165e+04   1.26e+04     -0.924      0.356   -3.64e+04    1.31e+04\n",
      "x81         1.735e+05   3.55e+04      4.887      0.000    1.04e+05    2.43e+05\n",
      "x82        -2.729e+04   3.49e+04     -0.782      0.434   -9.58e+04    4.12e+04\n",
      "x83        -2.265e+04   1.79e+04     -1.263      0.207   -5.79e+04    1.26e+04\n",
      "x84        -3.419e+04   3.43e+04     -0.998      0.319   -1.01e+05    3.31e+04\n",
      "x85        -2182.9572   3.48e+04     -0.063      0.950   -7.05e+04    6.61e+04\n",
      "x86         1.483e+04   1.35e+04      1.096      0.273   -1.17e+04    4.14e+04\n",
      "x87         7277.7758   5963.481      1.220      0.223   -4425.020     1.9e+04\n",
      "x88         1.298e+04   5351.610      2.426      0.015    2481.964    2.35e+04\n",
      "x89        -6174.2571   1.29e+04     -0.477      0.634   -3.16e+04    1.92e+04\n",
      "x90        -9743.8177    1.1e+04     -0.884      0.377   -3.14e+04    1.19e+04\n",
      "x91         2.867e+04   1.41e+04      2.035      0.042    1021.142    5.63e+04\n",
      "x92        -3.338e+04   4.95e+04     -0.675      0.500    -1.3e+05    6.37e+04\n",
      "x93         4068.5088   1.26e+04      0.322      0.747   -2.07e+04    2.89e+04\n",
      "x94         2505.3864   2.41e+04      0.104      0.917   -4.48e+04    4.98e+04\n",
      "x95          2.98e+04   2.19e+04      1.360      0.174   -1.32e+04    7.28e+04\n",
      "x96         2.338e+04    1.1e+04      2.123      0.034    1764.475     4.5e+04\n",
      "x97        -2.204e+04   1.55e+04     -1.420      0.156   -5.25e+04    8414.233\n",
      "x98        -1.383e+04   2.07e+04     -0.669      0.504   -5.44e+04    2.68e+04\n",
      "x99        -9613.7266   3.29e+04     -0.292      0.770   -7.42e+04     5.5e+04\n",
      "x100       -4780.7295   9986.260     -0.479      0.632   -2.44e+04    1.48e+04\n",
      "x101        8017.0719   1.43e+04      0.560      0.575   -2.01e+04    3.61e+04\n",
      "x102        1.243e+04   1.02e+04      1.216      0.224   -7634.403    3.25e+04\n",
      "x103        9034.6441   1.63e+04      0.554      0.580    -2.3e+04    4.11e+04\n",
      "x104        4083.2362   1.98e+04      0.206      0.837   -3.49e+04     4.3e+04\n",
      "x105       -2.401e+04   2.37e+04     -1.014      0.311   -7.05e+04    2.25e+04\n",
      "x106        5034.5895   4.18e+04      0.120      0.904    -7.7e+04    8.71e+04\n",
      "x107       -1.669e+04   3.86e+04     -0.432      0.666   -9.25e+04    5.91e+04\n",
      "x108        3.053e+04   2.78e+04      1.100      0.272    -2.4e+04     8.5e+04\n",
      "x109       -1.781e+04   3.57e+04     -0.499      0.618   -8.79e+04    5.22e+04\n",
      "x110        4.213e+04   2.76e+04      1.525      0.128   -1.21e+04    9.63e+04\n",
      "x111        9181.6919   1.86e+04      0.493      0.622   -2.74e+04    4.58e+04\n",
      "x112       -6.432e+04   3.75e+04     -1.717      0.086   -1.38e+05    9211.212\n",
      "x113        4.001e+04   9945.641      4.023      0.000    2.05e+04    5.95e+04\n",
      "x114       -2.396e+04   2.57e+04     -0.932      0.352   -7.44e+04    2.65e+04\n",
      "x115       -2395.7076   8753.186     -0.274      0.784   -1.96e+04    1.48e+04\n",
      "x116       -2.633e+04   3.66e+04     -0.719      0.472   -9.82e+04    4.56e+04\n",
      "x117        1.796e+04   1.45e+04      1.236      0.217   -1.06e+04    4.65e+04\n",
      "x118        1.328e+04   8841.178      1.502      0.134   -4074.691    3.06e+04\n",
      "x119        4.641e+04   1.43e+04      3.235      0.001    1.83e+04    7.46e+04\n",
      "x120       -1.078e+04   1.19e+04     -0.904      0.366   -3.42e+04    1.26e+04\n",
      "x121         302.5281   8592.133      0.035      0.972   -1.66e+04    1.72e+04\n",
      "x122        1.982e+04   1.09e+04      1.825      0.068   -1496.166    4.11e+04\n",
      "x123       -7166.9735   1.77e+04     -0.405      0.685   -4.19e+04    2.75e+04\n",
      "x124        -1.56e+04   2.77e+04     -0.563      0.573      -7e+04    3.88e+04\n",
      "x125        1.007e+04   2.57e+04      0.392      0.695   -4.03e+04    6.05e+04\n",
      "x126       -1.641e+04   1.27e+04     -1.293      0.196   -4.13e+04    8495.278\n",
      "x127        6.958e+04   2.61e+04      2.664      0.008    1.83e+04    1.21e+05\n",
      "x128        -637.8308   8335.208     -0.077      0.939    -1.7e+04    1.57e+04\n",
      "x129        2.437e+04   1.56e+04      1.558      0.120   -6324.682    5.51e+04\n",
      "x130       -7163.8105   1.43e+04     -0.501      0.617   -3.52e+04    2.09e+04\n",
      "x131        3255.2933    3.6e+04      0.090      0.928   -6.75e+04     7.4e+04\n",
      "x132       -1779.6941   7948.664     -0.224      0.823   -1.74e+04    1.38e+04\n",
      "x133       -3.347e+04   2.34e+04     -1.428      0.154   -7.95e+04    1.25e+04\n",
      "x134       -2.782e+04   1.43e+04     -1.950      0.051   -5.58e+04     177.269\n",
      "x135        2.338e+04   1.11e+04      2.111      0.035    1647.933    4.51e+04\n",
      "x136        9425.7484   8182.345      1.152      0.250   -6631.369    2.55e+04\n",
      "x137       -1.085e+04   9255.385     -1.173      0.241    -2.9e+04    7309.406\n",
      "x138          25.5894   1.18e+04      0.002      0.998   -2.31e+04    2.32e+04\n",
      "x139        1.442e+04   7673.212      1.879      0.060    -636.323    2.95e+04\n",
      "x140       -1.974e+04    2.9e+04     -0.681      0.496   -7.66e+04    3.71e+04\n",
      "x141       -1337.3936   7609.242     -0.176      0.861   -1.63e+04    1.36e+04\n",
      "x142         2.58e+04   8218.673      3.139      0.002    9673.615    4.19e+04\n",
      "x143        3207.1788   6708.202      0.478      0.633   -9957.065    1.64e+04\n",
      "x144         896.8265   6019.947      0.149      0.882   -1.09e+04    1.27e+04\n",
      "x145         1.12e+04   6123.391      1.830      0.068    -813.760    2.32e+04\n",
      "x146         890.5463    1.5e+04      0.059      0.953   -2.85e+04    3.03e+04\n",
      "x147        1.488e+04   1.66e+04      0.896      0.371   -1.77e+04    4.75e+04\n",
      "x148       -1.191e+04   1.87e+04     -0.635      0.525   -4.87e+04    2.49e+04\n",
      "x149       -4702.4733   3.24e+04     -0.145      0.885   -6.83e+04    5.89e+04\n",
      "x150        5351.2210   6243.378      0.857      0.392   -6900.846    1.76e+04\n",
      "x151         207.7519   6517.767      0.032      0.975   -1.26e+04     1.3e+04\n",
      "x152        2.763e+04   6121.500      4.513      0.000    1.56e+04    3.96e+04\n",
      "x153       -9296.8845   7249.689     -1.282      0.200   -2.35e+04    4929.978\n",
      "x154          -7.6937   6418.820     -0.001      0.999   -1.26e+04    1.26e+04\n",
      "x155          -5.5542   6055.150     -0.001      0.999   -1.19e+04    1.19e+04\n",
      "x156       -2.202e+04   3.08e+04     -0.715      0.474   -8.24e+04    3.84e+04\n",
      "x157        2.487e+04   9976.735      2.493      0.013    5291.166    4.44e+04\n",
      "x158       -4459.7051   8812.020     -0.506      0.613   -2.18e+04    1.28e+04\n",
      "x159        2.286e+04   1.32e+04      1.728      0.084   -3096.112    4.88e+04\n",
      "x160         632.7036   8207.736      0.077      0.939   -1.55e+04    1.67e+04\n",
      "x161        3654.0488   7881.244      0.464      0.643   -1.18e+04    1.91e+04\n",
      "x162       -6372.3272   6090.911     -1.046      0.296   -1.83e+04    5580.538\n",
      "x163       -3.089e+04   3.37e+04     -0.916      0.360   -9.71e+04    3.53e+04\n",
      "x164        9766.7964   9924.281      0.984      0.325   -9708.712    2.92e+04\n",
      "x165        2.987e+04   1.23e+04      2.432      0.015    5765.113     5.4e+04\n",
      "x166       -1.505e+04   1.63e+04     -0.925      0.355    -4.7e+04    1.69e+04\n",
      "x167        1.325e+04   2.47e+04      0.536      0.592   -3.52e+04    6.17e+04\n",
      "x168        1.222e+04    2.4e+04      0.510      0.610   -3.48e+04    5.92e+04\n",
      "x169        2632.3631   4091.289      0.643      0.520   -5396.423    1.07e+04\n",
      "x170        1.654e+04   4387.566      3.770      0.000    7929.177    2.51e+04\n",
      "x171        -944.2734   9349.859     -0.101      0.920   -1.93e+04    1.74e+04\n",
      "x172       -6153.0940   1.03e+04     -0.595      0.552   -2.64e+04    1.41e+04\n",
      "x173        2.136e+04   2.54e+04      0.839      0.401   -2.86e+04    7.13e+04\n",
      "x174        4908.4801   8994.636      0.546      0.585   -1.27e+04    2.26e+04\n",
      "x175        3.011e+04   1.33e+04      2.264      0.024    4007.534    5.62e+04\n",
      "x176       -2.174e+04   2.52e+04     -0.861      0.389   -7.13e+04    2.78e+04\n",
      "x177        6364.6666   1.05e+04      0.608      0.544   -1.42e+04    2.69e+04\n",
      "x178        9062.0989   1.07e+04      0.846      0.398   -1.19e+04    3.01e+04\n",
      "x179        1.942e+04   1.36e+04      1.423      0.155   -7353.260    4.62e+04\n",
      "x180       -2.892e+04   3.96e+04     -0.730      0.466   -1.07e+05    4.89e+04\n",
      "x181        4867.9520   8274.824      0.588      0.556   -1.14e+04    2.11e+04\n",
      "x182       -8721.0139   1.58e+04     -0.553      0.581   -3.97e+04    2.23e+04\n",
      "x183        9424.0590   5193.560      1.815      0.070    -767.835    1.96e+04\n",
      "x184        8269.5892   1.11e+04      0.746      0.456   -1.35e+04       3e+04\n",
      "x185        3.018e+04   6733.184      4.482      0.000     1.7e+04    4.34e+04\n",
      "x186       -1.272e+04   1.59e+04     -0.801      0.423   -4.39e+04    1.85e+04\n",
      "x187        -861.0297   5334.319     -0.161      0.872   -1.13e+04    9607.092\n",
      "x188       -6396.5253   3295.480     -1.941      0.053   -1.29e+04      70.558\n",
      "x189        1.845e+04   2800.954      6.588      0.000     1.3e+04    2.39e+04\n",
      "x190       -6396.5253   3295.480     -1.941      0.053   -1.29e+04      70.558\n",
      "x191        8325.7761   2567.319      3.243      0.001    3287.644    1.34e+04\n",
      "x192       -1209.6565   2802.577     -0.432      0.666   -6709.461    4290.148\n",
      "x193        3739.1872   4727.432      0.791      0.429   -5537.973     1.3e+04\n",
      "x194        4836.1847   5613.586      0.862      0.389   -6179.973    1.59e+04\n",
      "x195         1.06e+04   3729.514      2.841      0.005    3277.536    1.79e+04\n",
      "x196        1.332e+04   5680.292      2.346      0.019    2177.491    2.45e+04\n",
      "x197       -3187.5901   5462.757     -0.584      0.560   -1.39e+04    7532.580\n",
      "x198        5602.9976   4182.711      1.340      0.181   -2605.198    1.38e+04\n",
      "x199       -5034.3825   1.02e+04     -0.495      0.621    -2.5e+04    1.49e+04\n",
      "x200        8466.1652   3454.998      2.450      0.014    1686.043    1.52e+04\n",
      "x201       -2.265e+04   1.79e+04     -1.263      0.207   -5.79e+04    1.26e+04\n",
      "x202       -3147.8910   1.35e+04     -0.233      0.816   -2.97e+04    2.34e+04\n",
      "x203       -2.192e+04   3.57e+04     -0.614      0.540    -9.2e+04    4.82e+04\n",
      "x204       -1256.8548   1.42e+04     -0.089      0.929   -2.91e+04    2.66e+04\n",
      "x205        6.815e+04   3.09e+04      2.203      0.028    7451.137    1.29e+05\n",
      "x206       -3856.1210   9689.721     -0.398      0.691   -2.29e+04    1.52e+04\n",
      "x207        3.578e+04    1.8e+04      1.993      0.047     552.120     7.1e+04\n",
      "x208       -1.511e+04   3.23e+04     -0.468      0.640   -7.85e+04    4.83e+04\n",
      "x209        1.924e+04   1.68e+04      1.144      0.253   -1.38e+04    5.23e+04\n",
      "x210        2.252e+04   2.47e+04      0.912      0.362    -2.6e+04     7.1e+04\n",
      "x211       -3.813e+04    1.7e+04     -2.244      0.025   -7.15e+04   -4779.110\n",
      "x212        1.291e+04   4713.818      2.739      0.006    3659.414    2.22e+04\n",
      "x213       -7786.5333   3.33e+04     -0.234      0.815   -7.32e+04    5.76e+04\n",
      "x214       -6402.6454   7836.969     -0.817      0.414   -2.18e+04    8976.701\n",
      "x215       -2373.9223   6819.972     -0.348      0.728   -1.58e+04     1.1e+04\n",
      "x216       -3941.8976   2.12e+04     -0.186      0.853   -4.56e+04    3.77e+04\n",
      "x217        9812.5746   1.23e+04      0.800      0.424   -1.43e+04    3.39e+04\n",
      "x218       -4889.5785   9226.129     -0.530      0.596    -2.3e+04    1.32e+04\n",
      "x219        7654.7083   5742.421      1.333      0.183   -3614.276    1.89e+04\n",
      "x220        1.291e+04   4713.818      2.739      0.006    3659.414    2.22e+04\n",
      "==============================================================================\n",
      "Omnibus:                      264.709   Durbin-Watson:                   2.096\n",
      "Prob(Omnibus):                  0.000   Jarque-Bera (JB):             1291.495\n",
      "Skew:                           0.981   Prob(JB):                    3.59e-281\n",
      "Kurtosis:                       7.800   Cond. No.                     1.73e+16\n",
      "==============================================================================\n",
      "\n",
      "Warnings:\n",
      "[1] Standard Errors assume that the covariance matrix of the errors is correctly specified.\n",
      "[2] The smallest eigenvalue is 8.66e-29. This might indicate that there are\n",
      "strong multicollinearity problems or that the design matrix is singular.\n"
     ]
    }
   ],
   "source": [
    "X_add_const = sm.add_constant(X_train)\n",
    "ols = sm.OLS(y_train, X_add_const)\n",
    "ans = ols.fit()\n",
    "print(ans.summary())"
   ]
  },
  {
   "cell_type": "code",
   "execution_count": null,
   "metadata": {},
   "outputs": [],
   "source": []
  },
  {
   "cell_type": "markdown",
   "metadata": {},
   "source": [
    "#Multiple Linear Regression"
   ]
  },
  {
   "cell_type": "code",
   "execution_count": 34,
   "metadata": {},
   "outputs": [
    {
     "data": {
      "text/plain": [
       "LinearRegression(copy_X=True, fit_intercept=True, n_jobs=None, normalize=False)"
      ]
     },
     "execution_count": 34,
     "metadata": {},
     "output_type": "execute_result"
    }
   ],
   "source": [
    "mlr = linear_model.LinearRegression()\n",
    "mlr\n"
   ]
  },
  {
   "cell_type": "code",
   "execution_count": 33,
   "metadata": {},
   "outputs": [],
   "source": [
    "grid_param = [{'copy_X':[True,False], 'fit_intercept': [True,False], 'n_jobs': ['None'], 'normalize':[True,False]}]\n",
    "para_search = GridSearchCV(estimator=mlr, param_grid=grid_param, scoring='r2', cv=5, return_train_score=True)\n",
    "para_search = para_search.fit(X_train, y_train)"
   ]
  },
  {
   "cell_type": "code",
   "execution_count": 36,
   "metadata": {},
   "outputs": [
    {
     "name": "stdout",
     "output_type": "stream",
     "text": [
      "['mean_fit_time', 'std_fit_time', 'mean_score_time', 'std_score_time', 'param_copy_X', 'param_fit_intercept', 'param_n_jobs', 'param_normalize', 'params', 'split0_test_score', 'split1_test_score', 'split2_test_score', 'split3_test_score', 'split4_test_score', 'mean_test_score', 'std_test_score', 'rank_test_score', 'split0_train_score', 'split1_train_score', 'split2_train_score', 'split3_train_score', 'split4_train_score', 'mean_train_score', 'std_train_score']\n",
      "-1.332907326280831e+19\n",
      "{'copy_X': True, 'fit_intercept': False, 'n_jobs': 'None', 'normalize': True}\n"
     ]
    },
    {
     "data": {
      "text/plain": [
       "LinearRegression(copy_X=True, fit_intercept=False, n_jobs='None',\n",
       "                 normalize=True)"
      ]
     },
     "execution_count": 36,
     "metadata": {},
     "output_type": "execute_result"
    }
   ],
   "source": [
    "print(list(para_search.cv_results_.keys()))\n",
    "para_search.cv_results_\n",
    "print(para_search.best_score_)\n",
    "print(para_search.best_params_)\n",
    "para_search.best_estimator_"
   ]
  },
  {
   "cell_type": "code",
   "execution_count": 37,
   "metadata": {},
   "outputs": [
    {
     "data": {
      "text/plain": [
       "0.8053297545506898"
      ]
     },
     "execution_count": 37,
     "metadata": {},
     "output_type": "execute_result"
    }
   ],
   "source": [
    "mlr_best = para_search.best_estimator_\n",
    "mlr_best.fit(X_train, y_train)\n",
    "mlr_best.score(X_train, y_train)"
   ]
  },
  {
   "cell_type": "code",
   "execution_count": 38,
   "metadata": {},
   "outputs": [
    {
     "data": {
      "text/plain": [
       "-7719809123848478.0"
      ]
     },
     "execution_count": 38,
     "metadata": {},
     "output_type": "execute_result"
    }
   ],
   "source": [
    "mlr_best.score(X_test, y_test)"
   ]
  },
  {
   "cell_type": "code",
   "execution_count": 22,
   "metadata": {},
   "outputs": [
    {
     "data": {
      "text/plain": [
       "Lasso(alpha=1.0, copy_X=True, fit_intercept=True, max_iter=1000,\n",
       "      normalize=False, positive=False, precompute=False, random_state=None,\n",
       "      selection='cyclic', tol=0.0001, warm_start=False)"
      ]
     },
     "execution_count": 22,
     "metadata": {},
     "output_type": "execute_result"
    }
   ],
   "source": [
    "lasso = Lasso()\n",
    "lasso\n",
    "\n"
   ]
  },
  {
   "cell_type": "code",
   "execution_count": 23,
   "metadata": {},
   "outputs": [],
   "source": [
    "alpha_lasso = [1e-15, 1e-10, 1e-8, 1e-5,1e-4, 1e-3,1e-2, 1, 5, 10]"
   ]
  },
  {
   "cell_type": "code",
   "execution_count": 24,
   "metadata": {},
   "outputs": [],
   "source": [
    "lasso_grid_param = [{'alpha':[alpha_lasso], 'copy_X':[True,False],'fit_intercept': [True,False], \n",
    "               'normalize': [True,False], 'positive':[True,False], 'precompute':[True,False],\n",
    "               'selection':['cyclic', 'random']}]\n",
    "lasso_para_search = GridSearchCV(estimator=lasso, param_grid=lasso_grid_param, scoring='r2', cv=5, return_train_score=True)\n",
    "lasso_para_search = para_search.fit(X_train, y_train)"
   ]
  },
  {
   "cell_type": "code",
   "execution_count": 25,
   "metadata": {},
   "outputs": [
    {
     "name": "stdout",
     "output_type": "stream",
     "text": [
      "-1.332907326280831e+19\n",
      "{'copy_X': True, 'fit_intercept': False, 'n_jobs': 'None', 'normalize': True}\n"
     ]
    },
    {
     "data": {
      "text/plain": [
       "LinearRegression(copy_X=True, fit_intercept=False, n_jobs='None',\n",
       "                 normalize=True)"
      ]
     },
     "execution_count": 25,
     "metadata": {},
     "output_type": "execute_result"
    }
   ],
   "source": [
    "lasso_para_search.cv_results_\n",
    "print(lasso_para_search.best_score_)\n",
    "print(lasso_para_search.best_params_)\n",
    "lasso_para_search.best_estimator_"
   ]
  },
  {
   "cell_type": "code",
   "execution_count": 26,
   "metadata": {},
   "outputs": [
    {
     "data": {
      "text/plain": [
       "0.8053297545506898"
      ]
     },
     "execution_count": 26,
     "metadata": {},
     "output_type": "execute_result"
    }
   ],
   "source": [
    "lasso_best = lasso_para_search.best_estimator_\n",
    "lasso_best.fit(X_train, y_train)\n",
    "lasso_best.score(X_train, y_train)"
   ]
  },
  {
   "cell_type": "code",
   "execution_count": 27,
   "metadata": {},
   "outputs": [
    {
     "data": {
      "text/plain": [
       "-7719809123848478.0"
      ]
     },
     "execution_count": 27,
     "metadata": {},
     "output_type": "execute_result"
    }
   ],
   "source": [
    "lasso_best.score(X_test, y_test)"
   ]
  },
  {
   "cell_type": "markdown",
   "metadata": {},
   "source": [
    "# Random Forest"
   ]
  },
  {
   "cell_type": "code",
   "execution_count": 28,
   "metadata": {},
   "outputs": [
    {
     "data": {
      "text/plain": [
       "RandomForestRegressor(bootstrap=True, ccp_alpha=0.0, criterion='mse',\n",
       "                      max_depth=None, max_features='auto', max_leaf_nodes=None,\n",
       "                      max_samples=None, min_impurity_decrease=0.0,\n",
       "                      min_impurity_split=None, min_samples_leaf=1,\n",
       "                      min_samples_split=2, min_weight_fraction_leaf=0.0,\n",
       "                      n_estimators=100, n_jobs=None, oob_score=False,\n",
       "                      random_state=None, verbose=0, warm_start=False)"
      ]
     },
     "execution_count": 28,
     "metadata": {},
     "output_type": "execute_result"
    }
   ],
   "source": [
    "from sklearn.ensemble import RandomForestRegressor\n",
    "\n",
    "rf = RandomForestRegressor(n_estimators = 100)\n",
    "rf.fit(X_train,y_train)"
   ]
  },
  {
   "cell_type": "code",
   "execution_count": 29,
   "metadata": {},
   "outputs": [
    {
     "data": {
      "text/plain": [
       "0.9538759632828024"
      ]
     },
     "execution_count": 29,
     "metadata": {},
     "output_type": "execute_result"
    }
   ],
   "source": [
    "rf.score(X_train, y_train)"
   ]
  },
  {
   "cell_type": "code",
   "execution_count": 30,
   "metadata": {},
   "outputs": [
    {
     "data": {
      "text/plain": [
       "0.7274191590802601"
      ]
     },
     "execution_count": 30,
     "metadata": {},
     "output_type": "execute_result"
    }
   ],
   "source": [
    "rf.score(X_test, y_test)"
   ]
  },
  {
   "cell_type": "code",
   "execution_count": 46,
   "metadata": {},
   "outputs": [
    {
     "data": {
      "text/plain": [
       "array([137349.59      , 151186.        , 191990.87261905, ...,\n",
       "       116360.        , 115695.        , 200733.95      ])"
      ]
     },
     "execution_count": 46,
     "metadata": {},
     "output_type": "execute_result"
    }
   ],
   "source": [
    "rf.predict(df_kaggle)"
   ]
  },
  {
   "cell_type": "markdown",
   "metadata": {},
   "source": [
    "# Beginning of XGBoost"
   ]
  },
  {
   "cell_type": "code",
   "execution_count": 42,
   "metadata": {},
   "outputs": [
    {
     "data": {
      "text/plain": [
       "XGBRegressor(base_score=0.5, booster='gbtree', colsample_bylevel=1,\n",
       "             colsample_bynode=1, colsample_bytree=1, gamma=1, gpu_id=-1,\n",
       "             importance_type='gain', interaction_constraints='',\n",
       "             learning_rate=0.01, max_delta_step=0, max_depth=3,\n",
       "             min_child_weight=1, missing=nan, monotone_constraints='()',\n",
       "             n_estimators=10000, n_jobs=0, num_parallel_tree=1,\n",
       "             objective='reg:squarederror', random_state=34, reg_alpha=0,\n",
       "             reg_lambda=1, scale_pos_weight=1, subsample=0.8,\n",
       "             tree_method='exact', validate_parameters=1, verbosity=None)"
      ]
     },
     "execution_count": 42,
     "metadata": {},
     "output_type": "execute_result"
    }
   ],
   "source": [
    "mod = xgb.XGBRegressor(\n",
    "    gamma=1,                 \n",
    "    learning_rate=0.01,\n",
    "    max_depth=3,\n",
    "    n_estimators=10000,                                                                    \n",
    "    subsample=0.8,\n",
    "    random_state=34\n",
    ") \n",
    "\n",
    "mod.fit(X_train, y_train)"
   ]
  },
  {
   "cell_type": "code",
   "execution_count": 43,
   "metadata": {},
   "outputs": [
    {
     "data": {
      "text/plain": [
       "0.9568361742365035"
      ]
     },
     "execution_count": 43,
     "metadata": {},
     "output_type": "execute_result"
    }
   ],
   "source": [
    "mod.score(X_train,y_train)"
   ]
  },
  {
   "cell_type": "code",
   "execution_count": 44,
   "metadata": {},
   "outputs": [
    {
     "data": {
      "text/plain": [
       "0.7358228541407463"
      ]
     },
     "execution_count": 44,
     "metadata": {},
     "output_type": "execute_result"
    }
   ],
   "source": [
    "mod.score(X_test,y_test)"
   ]
  },
  {
   "cell_type": "code",
   "execution_count": 47,
   "metadata": {},
   "outputs": [
    {
     "data": {
      "text/plain": [
       "array([125367.164, 155300.12 , 190781.36 , ..., 117868.12 , 112355.164,\n",
       "       200231.52 ], dtype=float32)"
      ]
     },
     "execution_count": 47,
     "metadata": {},
     "output_type": "execute_result"
    }
   ],
   "source": [
    "mod.predict(df_kaggle)"
   ]
  },
  {
   "cell_type": "markdown",
   "metadata": {},
   "source": [
    "# SVR"
   ]
  },
  {
   "cell_type": "code",
   "execution_count": 39,
   "metadata": {},
   "outputs": [
    {
     "data": {
      "text/plain": [
       "SVR(C=1.0, cache_size=200, coef0=0.0, degree=3, epsilon=0.1, gamma='scale',\n",
       "    kernel='rbf', max_iter=-1, shrinking=True, tol=0.001, verbose=False)"
      ]
     },
     "execution_count": 39,
     "metadata": {},
     "output_type": "execute_result"
    }
   ],
   "source": [
    "svr = SVR() #epsilon = 1e-4, gamma=1\n",
    "svr.fit(X_train,y_train)\n"
   ]
  },
  {
   "cell_type": "code",
   "execution_count": 40,
   "metadata": {},
   "outputs": [
    {
     "data": {
      "text/plain": [
       "-0.047697272717932115"
      ]
     },
     "execution_count": 40,
     "metadata": {},
     "output_type": "execute_result"
    }
   ],
   "source": [
    "svr.score(X_train,y_train)"
   ]
  },
  {
   "cell_type": "code",
   "execution_count": 41,
   "metadata": {},
   "outputs": [
    {
     "data": {
      "text/plain": [
       "-0.010905633953309124"
      ]
     },
     "execution_count": 41,
     "metadata": {},
     "output_type": "execute_result"
    }
   ],
   "source": [
    "svr.score(X_test,y_test)"
   ]
  },
  {
   "cell_type": "markdown",
   "metadata": {},
   "source": [
    "# Undo Box Cox Transformation"
   ]
  },
  {
   "cell_type": "code",
   "execution_count": null,
   "metadata": {},
   "outputs": [],
   "source": [
    "df[\"SalePrice\"] = scipy.special.inv_boxcox(df[\"SalePrice\"], 0.25)\n",
    "df.head()"
   ]
  }
 ],
 "metadata": {
  "kernelspec": {
   "display_name": "Python 3",
   "language": "python",
   "name": "python3"
  },
  "language_info": {
   "codemirror_mode": {
    "name": "ipython",
    "version": 3
   },
   "file_extension": ".py",
   "mimetype": "text/x-python",
   "name": "python",
   "nbconvert_exporter": "python",
   "pygments_lexer": "ipython3",
   "version": "3.7.6"
  }
 },
 "nbformat": 4,
 "nbformat_minor": 4
}
